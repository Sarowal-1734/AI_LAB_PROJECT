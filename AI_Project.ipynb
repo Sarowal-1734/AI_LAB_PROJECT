{
  "nbformat": 4,
  "nbformat_minor": 0,
  "metadata": {
    "colab": {
      "name": "AI-Project.ipynb",
      "provenance": [],
      "collapsed_sections": []
    },
    "kernelspec": {
      "name": "python3",
      "display_name": "Python 3"
    },
    "language_info": {
      "name": "python"
    }
  },
  "cells": [
    {
      "cell_type": "markdown",
      "metadata": {
        "id": "VqPLFvrn29gG"
      },
      "source": [
        "#**Mount Drive and Read Dataset**"
      ]
    },
    {
      "cell_type": "code",
      "metadata": {
        "colab": {
          "base_uri": "https://localhost:8080/"
        },
        "id": "cqfmc_xi3HNv",
        "outputId": "b9b72702-e386-4555-fe75-286fa0c54fb1"
      },
      "source": [
        "from google.colab import drive\n",
        "drive.mount('/content/gdrive')"
      ],
      "execution_count": null,
      "outputs": [
        {
          "output_type": "stream",
          "text": [
            "Drive already mounted at /content/gdrive; to attempt to forcibly remount, call drive.mount(\"/content/gdrive\", force_remount=True).\n"
          ],
          "name": "stdout"
        }
      ]
    },
    {
      "cell_type": "code",
      "metadata": {
        "id": "dalDjWJf3yiv"
      },
      "source": [
        " import pandas as pd"
      ],
      "execution_count": null,
      "outputs": []
    },
    {
      "cell_type": "code",
      "metadata": {
        "id": "y2ksg9Bs33jm"
      },
      "source": [
        "train = pd.read_csv('gdrive/My Drive/AI_Project/covid19.csv');"
      ],
      "execution_count": null,
      "outputs": []
    },
    {
      "cell_type": "markdown",
      "metadata": {
        "id": "lR7U_SyZ4e7-"
      },
      "source": [
        "#**Show Dataset**"
      ]
    },
    {
      "cell_type": "code",
      "metadata": {
        "colab": {
          "base_uri": "https://localhost:8080/",
          "height": 204
        },
        "id": "eg4qkpzf4i9F",
        "outputId": "8a37f9a5-1164-4116-cbff-5261f423878d"
      },
      "source": [
        "train.head()"
      ],
      "execution_count": null,
      "outputs": [
        {
          "output_type": "execute_result",
          "data": {
            "text/html": [
              "<div>\n",
              "<style scoped>\n",
              "    .dataframe tbody tr th:only-of-type {\n",
              "        vertical-align: middle;\n",
              "    }\n",
              "\n",
              "    .dataframe tbody tr th {\n",
              "        vertical-align: top;\n",
              "    }\n",
              "\n",
              "    .dataframe thead th {\n",
              "        text-align: right;\n",
              "    }\n",
              "</style>\n",
              "<table border=\"1\" class=\"dataframe\">\n",
              "  <thead>\n",
              "    <tr style=\"text-align: right;\">\n",
              "      <th></th>\n",
              "      <th>Country</th>\n",
              "      <th>Confirmed</th>\n",
              "      <th>Deaths</th>\n",
              "      <th>Recovered</th>\n",
              "      <th>New Cases</th>\n",
              "      <th>Deaths / 100 Cases</th>\n",
              "      <th>Recovered / 100 Cases</th>\n",
              "      <th>Population</th>\n",
              "    </tr>\n",
              "  </thead>\n",
              "  <tbody>\n",
              "    <tr>\n",
              "      <th>0</th>\n",
              "      <td>Afghanistan</td>\n",
              "      <td>4033</td>\n",
              "      <td>115</td>\n",
              "      <td>502</td>\n",
              "      <td>255</td>\n",
              "      <td>2.85</td>\n",
              "      <td>12.45</td>\n",
              "      <td>38928341</td>\n",
              "    </tr>\n",
              "    <tr>\n",
              "      <th>1</th>\n",
              "      <td>Albania</td>\n",
              "      <td>856</td>\n",
              "      <td>31</td>\n",
              "      <td>627</td>\n",
              "      <td>6</td>\n",
              "      <td>3.62</td>\n",
              "      <td>73.25</td>\n",
              "      <td>2877800</td>\n",
              "    </tr>\n",
              "    <tr>\n",
              "      <th>2</th>\n",
              "      <td>Algeria</td>\n",
              "      <td>5558</td>\n",
              "      <td>494</td>\n",
              "      <td>2546</td>\n",
              "      <td>189</td>\n",
              "      <td>8.89</td>\n",
              "      <td>45.81</td>\n",
              "      <td>43851043</td>\n",
              "    </tr>\n",
              "    <tr>\n",
              "      <th>3</th>\n",
              "      <td>Andorra</td>\n",
              "      <td>754</td>\n",
              "      <td>48</td>\n",
              "      <td>545</td>\n",
              "      <td>2</td>\n",
              "      <td>6.37</td>\n",
              "      <td>72.28</td>\n",
              "      <td>77265</td>\n",
              "    </tr>\n",
              "    <tr>\n",
              "      <th>4</th>\n",
              "      <td>Angola</td>\n",
              "      <td>43</td>\n",
              "      <td>2</td>\n",
              "      <td>13</td>\n",
              "      <td>0</td>\n",
              "      <td>4.65</td>\n",
              "      <td>30.23</td>\n",
              "      <td>32866268</td>\n",
              "    </tr>\n",
              "  </tbody>\n",
              "</table>\n",
              "</div>"
            ],
            "text/plain": [
              "       Country  Confirmed  ...  Recovered / 100 Cases  Population\n",
              "0  Afghanistan       4033  ...                  12.45    38928341\n",
              "1      Albania        856  ...                  73.25     2877800\n",
              "2      Algeria       5558  ...                  45.81    43851043\n",
              "3      Andorra        754  ...                  72.28       77265\n",
              "4       Angola         43  ...                  30.23    32866268\n",
              "\n",
              "[5 rows x 8 columns]"
            ]
          },
          "metadata": {
            "tags": []
          },
          "execution_count": 4
        }
      ]
    },
    {
      "cell_type": "markdown",
      "metadata": {
        "id": "ukufT0xilmnM"
      },
      "source": [
        "#**Show Shape**"
      ]
    },
    {
      "cell_type": "code",
      "metadata": {
        "colab": {
          "base_uri": "https://localhost:8080/"
        },
        "id": "1TbHydp0lqXs",
        "outputId": "edfc82b9-06bf-4033-be9c-d8e77e106597"
      },
      "source": [
        "train.shape"
      ],
      "execution_count": null,
      "outputs": [
        {
          "output_type": "execute_result",
          "data": {
            "text/plain": [
              "(188, 8)"
            ]
          },
          "metadata": {
            "tags": []
          },
          "execution_count": 5
        }
      ]
    },
    {
      "cell_type": "markdown",
      "metadata": {
        "id": "PYTMvbryl0nU"
      },
      "source": [
        "#**Show All Information with missing Value**"
      ]
    },
    {
      "cell_type": "code",
      "metadata": {
        "colab": {
          "base_uri": "https://localhost:8080/"
        },
        "id": "FMGavK47l4eF",
        "outputId": "62ce987c-88cf-4de5-a9ae-eb2fc37b7cb4"
      },
      "source": [
        "train.info()"
      ],
      "execution_count": null,
      "outputs": [
        {
          "output_type": "stream",
          "text": [
            "<class 'pandas.core.frame.DataFrame'>\n",
            "RangeIndex: 188 entries, 0 to 187\n",
            "Data columns (total 8 columns):\n",
            " #   Column                 Non-Null Count  Dtype  \n",
            "---  ------                 --------------  -----  \n",
            " 0   Country                188 non-null    object \n",
            " 1   Confirmed              188 non-null    int64  \n",
            " 2   Deaths                 188 non-null    int64  \n",
            " 3   Recovered              188 non-null    int64  \n",
            " 4   New Cases              188 non-null    int64  \n",
            " 5   Deaths / 100 Cases     188 non-null    float64\n",
            " 6   Recovered / 100 Cases  188 non-null    float64\n",
            " 7   Population             188 non-null    int64  \n",
            "dtypes: float64(2), int64(5), object(1)\n",
            "memory usage: 11.9+ KB\n"
          ],
          "name": "stdout"
        }
      ]
    },
    {
      "cell_type": "markdown",
      "metadata": {
        "id": "GQ-wE1QZrlaY"
      },
      "source": [
        "#**Categorizing (New Cases) in different range**\n",
        "Normal Situation = 0,\n",
        " Bad Situation = 1,\n",
        " Very Bad Situation = 2,\n",
        " Extremely Bad Situation = 3"
      ]
    },
    {
      "cell_type": "code",
      "metadata": {
        "id": "feF3eTtzr3T0"
      },
      "source": [
        "train_test_data = [train]\n",
        "for dataset in train_test_data:\n",
        "  dataset.loc[ dataset['New Cases'] <= 50, 'New Cases'] = 0\n",
        "  dataset.loc[(dataset['New Cases'] > 50) & (dataset['New Cases'] <= 250), 'New Cases'] = 1\n",
        "  dataset.loc[(dataset['New Cases'] > 250) & (dataset['New Cases'] <= 550), 'New Cases'] = 2\n",
        "  dataset.loc[ dataset['New Cases'] > 550, 'New Cases'] = 3"
      ],
      "execution_count": null,
      "outputs": []
    },
    {
      "cell_type": "code",
      "metadata": {
        "colab": {
          "base_uri": "https://localhost:8080/",
          "height": 204
        },
        "id": "HznF-OrIuWiz",
        "outputId": "ae7fe944-3be5-4350-8441-a0953ee269f9"
      },
      "source": [
        "train.head()"
      ],
      "execution_count": null,
      "outputs": [
        {
          "output_type": "execute_result",
          "data": {
            "text/html": [
              "<div>\n",
              "<style scoped>\n",
              "    .dataframe tbody tr th:only-of-type {\n",
              "        vertical-align: middle;\n",
              "    }\n",
              "\n",
              "    .dataframe tbody tr th {\n",
              "        vertical-align: top;\n",
              "    }\n",
              "\n",
              "    .dataframe thead th {\n",
              "        text-align: right;\n",
              "    }\n",
              "</style>\n",
              "<table border=\"1\" class=\"dataframe\">\n",
              "  <thead>\n",
              "    <tr style=\"text-align: right;\">\n",
              "      <th></th>\n",
              "      <th>Country</th>\n",
              "      <th>Confirmed</th>\n",
              "      <th>Deaths</th>\n",
              "      <th>Recovered</th>\n",
              "      <th>New Cases</th>\n",
              "      <th>Deaths / 100 Cases</th>\n",
              "      <th>Recovered / 100 Cases</th>\n",
              "      <th>Population</th>\n",
              "    </tr>\n",
              "  </thead>\n",
              "  <tbody>\n",
              "    <tr>\n",
              "      <th>0</th>\n",
              "      <td>Afghanistan</td>\n",
              "      <td>4033</td>\n",
              "      <td>115</td>\n",
              "      <td>502</td>\n",
              "      <td>2</td>\n",
              "      <td>2.85</td>\n",
              "      <td>12.45</td>\n",
              "      <td>38928341</td>\n",
              "    </tr>\n",
              "    <tr>\n",
              "      <th>1</th>\n",
              "      <td>Albania</td>\n",
              "      <td>856</td>\n",
              "      <td>31</td>\n",
              "      <td>627</td>\n",
              "      <td>0</td>\n",
              "      <td>3.62</td>\n",
              "      <td>73.25</td>\n",
              "      <td>2877800</td>\n",
              "    </tr>\n",
              "    <tr>\n",
              "      <th>2</th>\n",
              "      <td>Algeria</td>\n",
              "      <td>5558</td>\n",
              "      <td>494</td>\n",
              "      <td>2546</td>\n",
              "      <td>1</td>\n",
              "      <td>8.89</td>\n",
              "      <td>45.81</td>\n",
              "      <td>43851043</td>\n",
              "    </tr>\n",
              "    <tr>\n",
              "      <th>3</th>\n",
              "      <td>Andorra</td>\n",
              "      <td>754</td>\n",
              "      <td>48</td>\n",
              "      <td>545</td>\n",
              "      <td>0</td>\n",
              "      <td>6.37</td>\n",
              "      <td>72.28</td>\n",
              "      <td>77265</td>\n",
              "    </tr>\n",
              "    <tr>\n",
              "      <th>4</th>\n",
              "      <td>Angola</td>\n",
              "      <td>43</td>\n",
              "      <td>2</td>\n",
              "      <td>13</td>\n",
              "      <td>0</td>\n",
              "      <td>4.65</td>\n",
              "      <td>30.23</td>\n",
              "      <td>32866268</td>\n",
              "    </tr>\n",
              "  </tbody>\n",
              "</table>\n",
              "</div>"
            ],
            "text/plain": [
              "       Country  Confirmed  ...  Recovered / 100 Cases  Population\n",
              "0  Afghanistan       4033  ...                  12.45    38928341\n",
              "1      Albania        856  ...                  73.25     2877800\n",
              "2      Algeria       5558  ...                  45.81    43851043\n",
              "3      Andorra        754  ...                  72.28       77265\n",
              "4       Angola         43  ...                  30.23    32866268\n",
              "\n",
              "[5 rows x 8 columns]"
            ]
          },
          "metadata": {
            "tags": []
          },
          "execution_count": 8
        }
      ]
    },
    {
      "cell_type": "markdown",
      "metadata": {
        "id": "AKEtn_yoqyPa"
      },
      "source": [
        "#**Import library for data visualization**"
      ]
    },
    {
      "cell_type": "code",
      "metadata": {
        "id": "Cvcgm4vMq4-5"
      },
      "source": [
        "import matplotlib.pyplot as plt\n",
        "%matplotlib inline\n",
        "import seaborn as sns\n",
        "sns.set()"
      ],
      "execution_count": null,
      "outputs": []
    },
    {
      "cell_type": "markdown",
      "metadata": {
        "id": "KddUmERynkhh"
      },
      "source": [
        "#**Create a function to see the graph**"
      ]
    },
    {
      "cell_type": "code",
      "metadata": {
        "id": "0KEAUarFnnGN"
      },
      "source": [
        "def bar_chart(feature):\n",
        "  Normal_Situation = train[train['New Cases']==0][feature].value_counts()\n",
        "  Bad_Situation = train[train['New Cases']==1][feature].value_counts()\n",
        "  Very_Bad_Situation = train[train['New Cases']==2][feature].value_counts()\n",
        "  Extremely_Bad_Situation = train[train['New Cases']==3][feature].value_counts()\n",
        "  df = pd.DataFrame([Normal_Situation,Bad_Situation,Very_Bad_Situation, Extremely_Bad_Situation])\n",
        "  df.index = ['Normal_Situation','Bad_Situation', 'Very_Bad_Situation', 'Extremely_Bad_Situation']\n",
        "  df.plot(kind='bar',stacked=True, figsize=(10,5))"
      ],
      "execution_count": null,
      "outputs": []
    },
    {
      "cell_type": "code",
      "metadata": {
        "colab": {
          "base_uri": "https://localhost:8080/",
          "height": 450
        },
        "id": "J3Z8RV3nwQPf",
        "outputId": "7dd91298-3602-46fb-993c-3205b33980aa"
      },
      "source": [
        "bar_chart('New Cases')"
      ],
      "execution_count": null,
      "outputs": [
        {
          "output_type": "display_data",
          "data": {
            "image/png": "[encoded data removed]",
            "text/plain": [
              "<Figure size 720x360 with 1 Axes>"
            ]
          },
          "metadata": {
            "tags": []
          }
        }
      ]
    },
    {
      "cell_type": "code",
      "metadata": {
        "id": "BNFuGtwl62gk"
      },
      "source": [
        "country_mapping = {\"Afghanistan\": 0, \"Albania\": 0, \"Algeria\": 0, \"Andorra\": 0, \"Angola\": 0, \"Antigua and Barbuda\": 0, \"Argentina\": 0, \"Armenia\": 0, \"Australia\": 0, \"Austria\": 0, \"Azerbaijan\": 0\n",
        "                   , \"Bahamas\": 0, \"Bahrain\": 0, \"Bangladesh\": 0, \"Barbados\": 0, \"Belarus\": 0, \"Belgium\": 0, \"Belize\": 0, \"Benin\": 0, \"Bhutan\": 0, \"Bolivia\": 0, \"Bosnia and Herzegovina\": 0\n",
        "                   , \"Botswana\": 0, \"Brazil\": 0, \"Brunei\": 0, \"Bulgaria\": 0, \"Burkina Faso\": 0, \"Burma\": 0, \"Burundi\": 0, \"Cabo Verde\": 1, \"Cambodia\": 1, \"Cameroon\": 1, \"Canada\": 1\n",
        "                   , \"Central African Republic\": 1, \"Chad\": 1, \"Chile\": 1, \"China\": 1, \"Colombia\": 1, \"Comoros\": 1, \"Congo (Brazzaville)\": 1, \"Congo (Kinshasa)\": 1, \"Costa Rica\": 1, \"Cote d'Ivoire\": 1\n",
        "                   , \"Croatia\": 1, \"Cuba\": 1, \"Cyprus\": 1, \"Czechia\": 1, \"Denmark\": 1, \"Diamond Princess\": 1, \"Djibouti\": 1, \"Dominica\": 1, \"Dominican Republic\": 1, \"Ecuador\": 2, \"Egypt\": 2\n",
        "                   , \"El Salvador\": 2, \"Equatorial Guinea\": 2, \"Eritrea\": 2, \"Estonia\": 2, \"Eswatini\": 2, \"Ethiopia\": 2, \"Fiji\": 2, \"Finland\": 2, \"France\": 2, \"Gabon\": 3, \"Gambia\": 3, \"Georgia\": 3\n",
        "                   , \"Germany\": 3, \"Ghana\": 3, \"Greece\": 3, \"Grenada\": 3, \"Guatemala\": 3, \"Guinea\": 3, \"Guinea-Bissau\": 3, \"Guyana\": 3, \"Haiti\": 3, \"Holy See\": 3, \"Honduras\": 3, \"Hungary\": 3\n",
        "                   , \"Iceland\": 4, \"India\": 4, \"Indonesia\": 4, \"Iran\": 4, \"Iraq\": 4, \"Ireland\": 4, \"Israel\": 4, \"Italy\": 4, \"Jamaica\": 4, \"Japan\": 4, \"Jordan\": 4, \"Kazakhstan\": 5, \"Kenya\": 5\n",
        "                   , \"Korea, South\": 5, \"Kosovo\": 5, \"Kuwait\": 5, \"Kyrgyzstan\": 5, \"Laos\": 5, \"Latvia\": 5, \"Lebanon\": 5, \"Lesotho\": 5, \"Liberia\": 5, \"Libya\": 5, \"Liechtenstein\": 5, \"Lithuania\": 5\n",
        "                   , \"Luxembourg\": 5, \"MS Zaandam\": 6, \"Madagascar\": 6, \"Malawi\": 6, \"Malaysia\": 6, \"Maldives\": 6, \"Mali\": 6, \"Malta\": 6, \"Mauritania\": 6, \"Mauritius\": 6, \"Mexico\": 6, \"Moldova\": 6\n",
        "                   , \"Monaco\": 6, \"Mongolia\": 6, \"Montenegro\": 6, \"Morocco\": 6, \"Mozambique\": 6, \"Namibia\": 6, \"Nepal\": 6, \"Netherlands\": 6, \"New Zealand\": 6, \"Nicaragua\": 6, \"Niger\": 6, \"Nigeria\": 6\n",
        "                   , \"North Macedonia\": 6, \"Norway\": 6, \"Oman\": 0, \"Pakistan\": 7, \"Panama\": 7, \"Papua New Guinea\": 7, \"Paraguay\": 7, \"Peru\": 7, \"Philippines\": 7, \"Poland\": 7, \"Portugal\": 7, \"Qatar\": 7\n",
        "                   , \"Romania\": 8, \"Russia\": 8, \"Rwanda\": 8, \"Saint Kitts and Nevis\": 8, \"Saint Lucia\": 8, \"Saint Vincent and the Grenadines\": 8, \"San Marino\": 8, \"Sao Tome and Principe\": 8, \"Saudi Arabia\": 8\n",
        "                   , \"Senegal\": 8, \"Serbia\": 8, \"Seychelles\": 8, \"Sierra Leone\": 8, \"Singapore\": 8, \"Slovakia\": 8, \"Slovenia\": 8, \"Somalia\": 8, \"South Africa\": 8, \"South Sudan\": 8, \"Spain\": 8\n",
        "                   , \"Sri Lanka\": 8, \"Sudan\": 8, \"Suriname\": 8, \"Sweden\": 8, \"Switzerland\": 8, \"Syria\": 8, \"Taiwan*\": 9, \"Tajikistan\": 9, \"Tanzania\": 9, \"Thailand\": 9, \"Timor-Leste\": 9, \"Togo\": 9\n",
        "                   , \"Trinidad and Tobago\": 9, \"Tunisia\": 9, \"Turkey\": 9, \"US\": 9, \"Uganda\": 9, \"Ukraine\": 9, \"United Arab Emirates\": 9, \"United Kingdom\": 9, \"Uruguay\": 9, \"Uzbekistan\": 9, \"Venezuela\": 10\n",
        "                   , \"Vietnam\": 10, \"West Bank and Gaza\": 10, \"Western Sahara\": 10, \"Yemen\": 11, \"Zambia\": 11, \"Zimbabwe\": 11}\n"
      ],
      "execution_count": null,
      "outputs": []
    },
    {
      "cell_type": "code",
      "metadata": {
        "id": "UsQG-G2AbGSi"
      },
      "source": [
        "for dataset in train_test_data:\n",
        "  dataset['Country'] = dataset['Country'].map(country_mapping)"
      ],
      "execution_count": null,
      "outputs": []
    },
    {
      "cell_type": "code",
      "metadata": {
        "colab": {
          "base_uri": "https://localhost:8080/",
          "height": 204
        },
        "id": "56n_iWFmcjS7",
        "outputId": "22ab6386-b664-46c4-eb4e-58dcc0775162"
      },
      "source": [
        "train.head()"
      ],
      "execution_count": null,
      "outputs": [
        {
          "output_type": "execute_result",
          "data": {
            "text/html": [
              "<div>\n",
              "<style scoped>\n",
              "    .dataframe tbody tr th:only-of-type {\n",
              "        vertical-align: middle;\n",
              "    }\n",
              "\n",
              "    .dataframe tbody tr th {\n",
              "        vertical-align: top;\n",
              "    }\n",
              "\n",
              "    .dataframe thead th {\n",
              "        text-align: right;\n",
              "    }\n",
              "</style>\n",
              "<table border=\"1\" class=\"dataframe\">\n",
              "  <thead>\n",
              "    <tr style=\"text-align: right;\">\n",
              "      <th></th>\n",
              "      <th>Country</th>\n",
              "      <th>Confirmed</th>\n",
              "      <th>Deaths</th>\n",
              "      <th>Recovered</th>\n",
              "      <th>New Cases</th>\n",
              "      <th>Deaths / 100 Cases</th>\n",
              "      <th>Recovered / 100 Cases</th>\n",
              "      <th>Population</th>\n",
              "    </tr>\n",
              "  </thead>\n",
              "  <tbody>\n",
              "    <tr>\n",
              "      <th>0</th>\n",
              "      <td>0</td>\n",
              "      <td>4033</td>\n",
              "      <td>115</td>\n",
              "      <td>502</td>\n",
              "      <td>2</td>\n",
              "      <td>2.85</td>\n",
              "      <td>12.45</td>\n",
              "      <td>38928341</td>\n",
              "    </tr>\n",
              "    <tr>\n",
              "      <th>1</th>\n",
              "      <td>0</td>\n",
              "      <td>856</td>\n",
              "      <td>31</td>\n",
              "      <td>627</td>\n",
              "      <td>0</td>\n",
              "      <td>3.62</td>\n",
              "      <td>73.25</td>\n",
              "      <td>2877800</td>\n",
              "    </tr>\n",
              "    <tr>\n",
              "      <th>2</th>\n",
              "      <td>0</td>\n",
              "      <td>5558</td>\n",
              "      <td>494</td>\n",
              "      <td>2546</td>\n",
              "      <td>1</td>\n",
              "      <td>8.89</td>\n",
              "      <td>45.81</td>\n",
              "      <td>43851043</td>\n",
              "    </tr>\n",
              "    <tr>\n",
              "      <th>3</th>\n",
              "      <td>0</td>\n",
              "      <td>754</td>\n",
              "      <td>48</td>\n",
              "      <td>545</td>\n",
              "      <td>0</td>\n",
              "      <td>6.37</td>\n",
              "      <td>72.28</td>\n",
              "      <td>77265</td>\n",
              "    </tr>\n",
              "    <tr>\n",
              "      <th>4</th>\n",
              "      <td>0</td>\n",
              "      <td>43</td>\n",
              "      <td>2</td>\n",
              "      <td>13</td>\n",
              "      <td>0</td>\n",
              "      <td>4.65</td>\n",
              "      <td>30.23</td>\n",
              "      <td>32866268</td>\n",
              "    </tr>\n",
              "  </tbody>\n",
              "</table>\n",
              "</div>"
            ],
            "text/plain": [
              "   Country  Confirmed  ...  Recovered / 100 Cases  Population\n",
              "0        0       4033  ...                  12.45    38928341\n",
              "1        0        856  ...                  73.25     2877800\n",
              "2        0       5558  ...                  45.81    43851043\n",
              "3        0        754  ...                  72.28       77265\n",
              "4        0         43  ...                  30.23    32866268\n",
              "\n",
              "[5 rows x 8 columns]"
            ]
          },
          "metadata": {
            "tags": []
          },
          "execution_count": 14
        }
      ]
    },
    {
      "cell_type": "markdown",
      "metadata": {
        "id": "GjxdxSD6qC36"
      },
      "source": [
        "#**Categorizing (Confirmed) in different range**\n"
      ]
    },
    {
      "cell_type": "code",
      "metadata": {
        "id": "wA_KCMfSwMeC"
      },
      "source": [
        "for dataset in train_test_data:\n",
        "  dataset.loc[ dataset['Confirmed'] <= 7000, 'Confirmed'] = 0\n",
        "  dataset.loc[(dataset['Confirmed'] > 7000) & (dataset['Confirmed'] <= 20000), 'Confirmed'] = 1\n",
        "  dataset.loc[(dataset['Confirmed'] > 20000) & (dataset['Confirmed'] <= 50000), 'Confirmed'] = 2\n",
        "  dataset.loc[ dataset['Confirmed'] > 50000, 'Confirmed'] = 3"
      ],
      "execution_count": null,
      "outputs": []
    },
    {
      "cell_type": "code",
      "metadata": {
        "colab": {
          "base_uri": "https://localhost:8080/",
          "height": 204
        },
        "id": "zjFj0ixNxiyc",
        "outputId": "17887941-505c-41dd-ad02-856925ca61dd"
      },
      "source": [
        "train.head()"
      ],
      "execution_count": null,
      "outputs": [
        {
          "output_type": "execute_result",
          "data": {
            "text/html": [
              "<div>\n",
              "<style scoped>\n",
              "    .dataframe tbody tr th:only-of-type {\n",
              "        vertical-align: middle;\n",
              "    }\n",
              "\n",
              "    .dataframe tbody tr th {\n",
              "        vertical-align: top;\n",
              "    }\n",
              "\n",
              "    .dataframe thead th {\n",
              "        text-align: right;\n",
              "    }\n",
              "</style>\n",
              "<table border=\"1\" class=\"dataframe\">\n",
              "  <thead>\n",
              "    <tr style=\"text-align: right;\">\n",
              "      <th></th>\n",
              "      <th>Country</th>\n",
              "      <th>Confirmed</th>\n",
              "      <th>Deaths</th>\n",
              "      <th>Recovered</th>\n",
              "      <th>New Cases</th>\n",
              "      <th>Deaths / 100 Cases</th>\n",
              "      <th>Recovered / 100 Cases</th>\n",
              "      <th>Population</th>\n",
              "    </tr>\n",
              "  </thead>\n",
              "  <tbody>\n",
              "    <tr>\n",
              "      <th>0</th>\n",
              "      <td>0</td>\n",
              "      <td>0</td>\n",
              "      <td>115</td>\n",
              "      <td>502</td>\n",
              "      <td>2</td>\n",
              "      <td>2.85</td>\n",
              "      <td>12.45</td>\n",
              "      <td>38928341</td>\n",
              "    </tr>\n",
              "    <tr>\n",
              "      <th>1</th>\n",
              "      <td>0</td>\n",
              "      <td>0</td>\n",
              "      <td>31</td>\n",
              "      <td>627</td>\n",
              "      <td>0</td>\n",
              "      <td>3.62</td>\n",
              "      <td>73.25</td>\n",
              "      <td>2877800</td>\n",
              "    </tr>\n",
              "    <tr>\n",
              "      <th>2</th>\n",
              "      <td>0</td>\n",
              "      <td>0</td>\n",
              "      <td>494</td>\n",
              "      <td>2546</td>\n",
              "      <td>1</td>\n",
              "      <td>8.89</td>\n",
              "      <td>45.81</td>\n",
              "      <td>43851043</td>\n",
              "    </tr>\n",
              "    <tr>\n",
              "      <th>3</th>\n",
              "      <td>0</td>\n",
              "      <td>0</td>\n",
              "      <td>48</td>\n",
              "      <td>545</td>\n",
              "      <td>0</td>\n",
              "      <td>6.37</td>\n",
              "      <td>72.28</td>\n",
              "      <td>77265</td>\n",
              "    </tr>\n",
              "    <tr>\n",
              "      <th>4</th>\n",
              "      <td>0</td>\n",
              "      <td>0</td>\n",
              "      <td>2</td>\n",
              "      <td>13</td>\n",
              "      <td>0</td>\n",
              "      <td>4.65</td>\n",
              "      <td>30.23</td>\n",
              "      <td>32866268</td>\n",
              "    </tr>\n",
              "  </tbody>\n",
              "</table>\n",
              "</div>"
            ],
            "text/plain": [
              "   Country  Confirmed  ...  Recovered / 100 Cases  Population\n",
              "0        0          0  ...                  12.45    38928341\n",
              "1        0          0  ...                  73.25     2877800\n",
              "2        0          0  ...                  45.81    43851043\n",
              "3        0          0  ...                  72.28       77265\n",
              "4        0          0  ...                  30.23    32866268\n",
              "\n",
              "[5 rows x 8 columns]"
            ]
          },
          "metadata": {
            "tags": []
          },
          "execution_count": 16
        }
      ]
    },
    {
      "cell_type": "code",
      "metadata": {
        "colab": {
          "base_uri": "https://localhost:8080/",
          "height": 450
        },
        "id": "Glaf0CRW0ucB",
        "outputId": "2d451302-19f5-4697-83e1-ba2f2fd9841c"
      },
      "source": [
        "bar_chart('Confirmed')"
      ],
      "execution_count": null,
      "outputs": [
        {
          "output_type": "display_data",
          "data": {
            "image/png": "[encoded data removed]",
            "text/plain": [
              "<Figure size 720x360 with 1 Axes>"
            ]
          },
          "metadata": {
            "tags": []
          }
        }
      ]
    },
    {
      "cell_type": "markdown",
      "metadata": {
        "id": "Id92cR0oqFoU"
      },
      "source": [
        "#**Categorizing (Deaths) in different range**"
      ]
    },
    {
      "cell_type": "code",
      "metadata": {
        "id": "rSXxTn-U2-kA"
      },
      "source": [
        "for dataset in train_test_data:\n",
        "  dataset.loc[ dataset['Deaths'] <= 500, 'Deaths'] = 0\n",
        "  dataset.loc[(dataset['Deaths'] > 500) & (dataset['Deaths'] <= 2000), 'Deaths'] = 1\n",
        "  dataset.loc[(dataset['Deaths'] > 2000) & (dataset['Deaths'] <= 5000), 'Deaths'] = 2\n",
        "  dataset.loc[ dataset['Deaths'] > 5000, 'Deaths'] = 3"
      ],
      "execution_count": null,
      "outputs": []
    },
    {
      "cell_type": "code",
      "metadata": {
        "colab": {
          "base_uri": "https://localhost:8080/",
          "height": 204
        },
        "id": "0rcCDq-n3njE",
        "outputId": "b403ceec-8439-4a9e-ce32-f5fa9e22f9d6"
      },
      "source": [
        "train.head()"
      ],
      "execution_count": null,
      "outputs": [
        {
          "output_type": "execute_result",
          "data": {
            "text/html": [
              "<div>\n",
              "<style scoped>\n",
              "    .dataframe tbody tr th:only-of-type {\n",
              "        vertical-align: middle;\n",
              "    }\n",
              "\n",
              "    .dataframe tbody tr th {\n",
              "        vertical-align: top;\n",
              "    }\n",
              "\n",
              "    .dataframe thead th {\n",
              "        text-align: right;\n",
              "    }\n",
              "</style>\n",
              "<table border=\"1\" class=\"dataframe\">\n",
              "  <thead>\n",
              "    <tr style=\"text-align: right;\">\n",
              "      <th></th>\n",
              "      <th>Country</th>\n",
              "      <th>Confirmed</th>\n",
              "      <th>Deaths</th>\n",
              "      <th>Recovered</th>\n",
              "      <th>New Cases</th>\n",
              "      <th>Deaths / 100 Cases</th>\n",
              "      <th>Recovered / 100 Cases</th>\n",
              "      <th>Population</th>\n",
              "    </tr>\n",
              "  </thead>\n",
              "  <tbody>\n",
              "    <tr>\n",
              "      <th>0</th>\n",
              "      <td>0</td>\n",
              "      <td>0</td>\n",
              "      <td>0</td>\n",
              "      <td>502</td>\n",
              "      <td>2</td>\n",
              "      <td>2.85</td>\n",
              "      <td>12.45</td>\n",
              "      <td>38928341</td>\n",
              "    </tr>\n",
              "    <tr>\n",
              "      <th>1</th>\n",
              "      <td>0</td>\n",
              "      <td>0</td>\n",
              "      <td>0</td>\n",
              "      <td>627</td>\n",
              "      <td>0</td>\n",
              "      <td>3.62</td>\n",
              "      <td>73.25</td>\n",
              "      <td>2877800</td>\n",
              "    </tr>\n",
              "    <tr>\n",
              "      <th>2</th>\n",
              "      <td>0</td>\n",
              "      <td>0</td>\n",
              "      <td>0</td>\n",
              "      <td>2546</td>\n",
              "      <td>1</td>\n",
              "      <td>8.89</td>\n",
              "      <td>45.81</td>\n",
              "      <td>43851043</td>\n",
              "    </tr>\n",
              "    <tr>\n",
              "      <th>3</th>\n",
              "      <td>0</td>\n",
              "      <td>0</td>\n",
              "      <td>0</td>\n",
              "      <td>545</td>\n",
              "      <td>0</td>\n",
              "      <td>6.37</td>\n",
              "      <td>72.28</td>\n",
              "      <td>77265</td>\n",
              "    </tr>\n",
              "    <tr>\n",
              "      <th>4</th>\n",
              "      <td>0</td>\n",
              "      <td>0</td>\n",
              "      <td>0</td>\n",
              "      <td>13</td>\n",
              "      <td>0</td>\n",
              "      <td>4.65</td>\n",
              "      <td>30.23</td>\n",
              "      <td>32866268</td>\n",
              "    </tr>\n",
              "  </tbody>\n",
              "</table>\n",
              "</div>"
            ],
            "text/plain": [
              "   Country  Confirmed  ...  Recovered / 100 Cases  Population\n",
              "0        0          0  ...                  12.45    38928341\n",
              "1        0          0  ...                  73.25     2877800\n",
              "2        0          0  ...                  45.81    43851043\n",
              "3        0          0  ...                  72.28       77265\n",
              "4        0          0  ...                  30.23    32866268\n",
              "\n",
              "[5 rows x 8 columns]"
            ]
          },
          "metadata": {
            "tags": []
          },
          "execution_count": 19
        }
      ]
    },
    {
      "cell_type": "code",
      "metadata": {
        "colab": {
          "base_uri": "https://localhost:8080/",
          "height": 450
        },
        "id": "i2Dq2pSQ317S",
        "outputId": "8e4b8a29-b01e-4235-bf52-21e76fc95943"
      },
      "source": [
        "bar_chart('Deaths')"
      ],
      "execution_count": null,
      "outputs": [
        {
          "output_type": "display_data",
          "data": {
            "image/png": "[encoded data removed]",
            "text/plain": [
              "<Figure size 720x360 with 1 Axes>"
            ]
          },
          "metadata": {
            "tags": []
          }
        }
      ]
    },
    {
      "cell_type": "markdown",
      "metadata": {
        "id": "tsW2ICkrqGsS"
      },
      "source": [
        "#**Categorizing (Recovered) in different range**"
      ]
    },
    {
      "cell_type": "code",
      "metadata": {
        "id": "ODDxAusq5B3G"
      },
      "source": [
        "for dataset in train_test_data:\n",
        "  dataset.loc[ dataset['Recovered'] <= 10000, 'Recovered'] = 0\n",
        "  dataset.loc[(dataset['Recovered'] > 10000) & (dataset['Recovered'] <= 30000), 'Recovered'] = 1\n",
        "  dataset.loc[(dataset['Recovered'] > 30000) & (dataset['Recovered'] <= 50000), 'Recovered'] = 2\n",
        "  dataset.loc[ dataset['Recovered'] > 50000, 'Recovered'] = 3"
      ],
      "execution_count": null,
      "outputs": []
    },
    {
      "cell_type": "code",
      "metadata": {
        "colab": {
          "base_uri": "https://localhost:8080/",
          "height": 204
        },
        "id": "QwaO4AZV5hSf",
        "outputId": "6aac1ba1-d70d-4480-ac08-23a7469468b8"
      },
      "source": [
        "train.head()"
      ],
      "execution_count": null,
      "outputs": [
        {
          "output_type": "execute_result",
          "data": {
            "text/html": [
              "<div>\n",
              "<style scoped>\n",
              "    .dataframe tbody tr th:only-of-type {\n",
              "        vertical-align: middle;\n",
              "    }\n",
              "\n",
              "    .dataframe tbody tr th {\n",
              "        vertical-align: top;\n",
              "    }\n",
              "\n",
              "    .dataframe thead th {\n",
              "        text-align: right;\n",
              "    }\n",
              "</style>\n",
              "<table border=\"1\" class=\"dataframe\">\n",
              "  <thead>\n",
              "    <tr style=\"text-align: right;\">\n",
              "      <th></th>\n",
              "      <th>Country</th>\n",
              "      <th>Confirmed</th>\n",
              "      <th>Deaths</th>\n",
              "      <th>Recovered</th>\n",
              "      <th>New Cases</th>\n",
              "      <th>Deaths / 100 Cases</th>\n",
              "      <th>Recovered / 100 Cases</th>\n",
              "      <th>Population</th>\n",
              "    </tr>\n",
              "  </thead>\n",
              "  <tbody>\n",
              "    <tr>\n",
              "      <th>0</th>\n",
              "      <td>0</td>\n",
              "      <td>0</td>\n",
              "      <td>0</td>\n",
              "      <td>0</td>\n",
              "      <td>2</td>\n",
              "      <td>2.85</td>\n",
              "      <td>12.45</td>\n",
              "      <td>38928341</td>\n",
              "    </tr>\n",
              "    <tr>\n",
              "      <th>1</th>\n",
              "      <td>0</td>\n",
              "      <td>0</td>\n",
              "      <td>0</td>\n",
              "      <td>0</td>\n",
              "      <td>0</td>\n",
              "      <td>3.62</td>\n",
              "      <td>73.25</td>\n",
              "      <td>2877800</td>\n",
              "    </tr>\n",
              "    <tr>\n",
              "      <th>2</th>\n",
              "      <td>0</td>\n",
              "      <td>0</td>\n",
              "      <td>0</td>\n",
              "      <td>0</td>\n",
              "      <td>1</td>\n",
              "      <td>8.89</td>\n",
              "      <td>45.81</td>\n",
              "      <td>43851043</td>\n",
              "    </tr>\n",
              "    <tr>\n",
              "      <th>3</th>\n",
              "      <td>0</td>\n",
              "      <td>0</td>\n",
              "      <td>0</td>\n",
              "      <td>0</td>\n",
              "      <td>0</td>\n",
              "      <td>6.37</td>\n",
              "      <td>72.28</td>\n",
              "      <td>77265</td>\n",
              "    </tr>\n",
              "    <tr>\n",
              "      <th>4</th>\n",
              "      <td>0</td>\n",
              "      <td>0</td>\n",
              "      <td>0</td>\n",
              "      <td>0</td>\n",
              "      <td>0</td>\n",
              "      <td>4.65</td>\n",
              "      <td>30.23</td>\n",
              "      <td>32866268</td>\n",
              "    </tr>\n",
              "  </tbody>\n",
              "</table>\n",
              "</div>"
            ],
            "text/plain": [
              "   Country  Confirmed  ...  Recovered / 100 Cases  Population\n",
              "0        0          0  ...                  12.45    38928341\n",
              "1        0          0  ...                  73.25     2877800\n",
              "2        0          0  ...                  45.81    43851043\n",
              "3        0          0  ...                  72.28       77265\n",
              "4        0          0  ...                  30.23    32866268\n",
              "\n",
              "[5 rows x 8 columns]"
            ]
          },
          "metadata": {
            "tags": []
          },
          "execution_count": 22
        }
      ]
    },
    {
      "cell_type": "code",
      "metadata": {
        "colab": {
          "base_uri": "https://localhost:8080/",
          "height": 450
        },
        "id": "Q-T8-RQb5pp-",
        "outputId": "649255fd-4a03-4f3f-fa28-65d6fd12c21e"
      },
      "source": [
        "bar_chart('Recovered')"
      ],
      "execution_count": null,
      "outputs": [
        {
          "output_type": "display_data",
          "data": {
            "image/png": "[encoded data removed]",
            "text/plain": [
              "<Figure size 720x360 with 1 Axes>"
            ]
          },
          "metadata": {
            "tags": []
          }
        }
      ]
    },
    {
      "cell_type": "markdown",
      "metadata": {
        "id": "U9lf0J3kqH03"
      },
      "source": [
        "#**Categorizing (Deaths / 100 Cases) in different range**"
      ]
    },
    {
      "cell_type": "code",
      "metadata": {
        "id": "SVlBfLJV63pw"
      },
      "source": [
        "for dataset in train_test_data:\n",
        "  dataset.loc[ dataset['Deaths / 100 Cases'] <= 2, 'Deaths / 100 Cases'] = 0\n",
        "  dataset.loc[(dataset['Deaths / 100 Cases'] > 2) & (dataset['Deaths / 100 Cases'] <= 5), 'Deaths / 100 Cases'] = 1\n",
        "  dataset.loc[(dataset['Deaths / 100 Cases'] > 5) & (dataset['Deaths / 100 Cases'] <= 8), 'Deaths / 100 Cases'] = 2\n",
        "  dataset.loc[ dataset['Deaths / 100 Cases'] > 8, 'Deaths / 100 Cases'] = 3"
      ],
      "execution_count": null,
      "outputs": []
    },
    {
      "cell_type": "code",
      "metadata": {
        "colab": {
          "base_uri": "https://localhost:8080/",
          "height": 204
        },
        "id": "Lgs0vjFC7cQf",
        "outputId": "dea72865-dbc2-4779-8fb6-5da00e08096a"
      },
      "source": [
        "train.head()"
      ],
      "execution_count": null,
      "outputs": [
        {
          "output_type": "execute_result",
          "data": {
            "text/html": [
              "<div>\n",
              "<style scoped>\n",
              "    .dataframe tbody tr th:only-of-type {\n",
              "        vertical-align: middle;\n",
              "    }\n",
              "\n",
              "    .dataframe tbody tr th {\n",
              "        vertical-align: top;\n",
              "    }\n",
              "\n",
              "    .dataframe thead th {\n",
              "        text-align: right;\n",
              "    }\n",
              "</style>\n",
              "<table border=\"1\" class=\"dataframe\">\n",
              "  <thead>\n",
              "    <tr style=\"text-align: right;\">\n",
              "      <th></th>\n",
              "      <th>Country</th>\n",
              "      <th>Confirmed</th>\n",
              "      <th>Deaths</th>\n",
              "      <th>Recovered</th>\n",
              "      <th>New Cases</th>\n",
              "      <th>Deaths / 100 Cases</th>\n",
              "      <th>Recovered / 100 Cases</th>\n",
              "      <th>Population</th>\n",
              "    </tr>\n",
              "  </thead>\n",
              "  <tbody>\n",
              "    <tr>\n",
              "      <th>0</th>\n",
              "      <td>0</td>\n",
              "      <td>0</td>\n",
              "      <td>0</td>\n",
              "      <td>0</td>\n",
              "      <td>2</td>\n",
              "      <td>1.0</td>\n",
              "      <td>12.45</td>\n",
              "      <td>38928341</td>\n",
              "    </tr>\n",
              "    <tr>\n",
              "      <th>1</th>\n",
              "      <td>0</td>\n",
              "      <td>0</td>\n",
              "      <td>0</td>\n",
              "      <td>0</td>\n",
              "      <td>0</td>\n",
              "      <td>1.0</td>\n",
              "      <td>73.25</td>\n",
              "      <td>2877800</td>\n",
              "    </tr>\n",
              "    <tr>\n",
              "      <th>2</th>\n",
              "      <td>0</td>\n",
              "      <td>0</td>\n",
              "      <td>0</td>\n",
              "      <td>0</td>\n",
              "      <td>1</td>\n",
              "      <td>3.0</td>\n",
              "      <td>45.81</td>\n",
              "      <td>43851043</td>\n",
              "    </tr>\n",
              "    <tr>\n",
              "      <th>3</th>\n",
              "      <td>0</td>\n",
              "      <td>0</td>\n",
              "      <td>0</td>\n",
              "      <td>0</td>\n",
              "      <td>0</td>\n",
              "      <td>2.0</td>\n",
              "      <td>72.28</td>\n",
              "      <td>77265</td>\n",
              "    </tr>\n",
              "    <tr>\n",
              "      <th>4</th>\n",
              "      <td>0</td>\n",
              "      <td>0</td>\n",
              "      <td>0</td>\n",
              "      <td>0</td>\n",
              "      <td>0</td>\n",
              "      <td>1.0</td>\n",
              "      <td>30.23</td>\n",
              "      <td>32866268</td>\n",
              "    </tr>\n",
              "  </tbody>\n",
              "</table>\n",
              "</div>"
            ],
            "text/plain": [
              "   Country  Confirmed  ...  Recovered / 100 Cases  Population\n",
              "0        0          0  ...                  12.45    38928341\n",
              "1        0          0  ...                  73.25     2877800\n",
              "2        0          0  ...                  45.81    43851043\n",
              "3        0          0  ...                  72.28       77265\n",
              "4        0          0  ...                  30.23    32866268\n",
              "\n",
              "[5 rows x 8 columns]"
            ]
          },
          "metadata": {
            "tags": []
          },
          "execution_count": 25
        }
      ]
    },
    {
      "cell_type": "code",
      "metadata": {
        "colab": {
          "base_uri": "https://localhost:8080/",
          "height": 450
        },
        "id": "4qh02du07fyy",
        "outputId": "ad7c4599-2639-4edb-837b-bfbc084e672c"
      },
      "source": [
        "bar_chart('Deaths / 100 Cases')"
      ],
      "execution_count": null,
      "outputs": [
        {
          "output_type": "display_data",
          "data": {
            "image/png": "[encoded data removed]",
            "text/plain": [
              "<Figure size 720x360 with 1 Axes>"
            ]
          },
          "metadata": {
            "tags": []
          }
        }
      ]
    },
    {
      "cell_type": "markdown",
      "metadata": {
        "id": "j_V6UO4XqIZI"
      },
      "source": [
        "#**Categorizing (Recovered / 100 Cases) in different range**"
      ]
    },
    {
      "cell_type": "code",
      "metadata": {
        "id": "CoWnxs7e7-pA"
      },
      "source": [
        "for dataset in train_test_data:\n",
        "  dataset.loc[ dataset['Recovered / 100 Cases'] <= 20, 'Recovered / 100 Cases'] = 0\n",
        "  dataset.loc[(dataset['Recovered / 100 Cases'] > 20) & (dataset['Recovered / 100 Cases'] <= 40), 'Recovered / 100 Cases'] = 1\n",
        "  dataset.loc[(dataset['Recovered / 100 Cases'] > 40) & (dataset['Recovered / 100 Cases'] <= 70), 'Recovered / 100 Cases'] = 2\n",
        "  dataset.loc[ dataset['Recovered / 100 Cases'] > 70, 'Recovered / 100 Cases'] = 3"
      ],
      "execution_count": null,
      "outputs": []
    },
    {
      "cell_type": "code",
      "metadata": {
        "colab": {
          "base_uri": "https://localhost:8080/",
          "height": 204
        },
        "id": "25mP8tkX9Nql",
        "outputId": "0f951bcb-25ce-42f0-b7f6-b4f370c01724"
      },
      "source": [
        "train.head()"
      ],
      "execution_count": null,
      "outputs": [
        {
          "output_type": "execute_result",
          "data": {
            "text/html": [
              "<div>\n",
              "<style scoped>\n",
              "    .dataframe tbody tr th:only-of-type {\n",
              "        vertical-align: middle;\n",
              "    }\n",
              "\n",
              "    .dataframe tbody tr th {\n",
              "        vertical-align: top;\n",
              "    }\n",
              "\n",
              "    .dataframe thead th {\n",
              "        text-align: right;\n",
              "    }\n",
              "</style>\n",
              "<table border=\"1\" class=\"dataframe\">\n",
              "  <thead>\n",
              "    <tr style=\"text-align: right;\">\n",
              "      <th></th>\n",
              "      <th>Country</th>\n",
              "      <th>Confirmed</th>\n",
              "      <th>Deaths</th>\n",
              "      <th>Recovered</th>\n",
              "      <th>New Cases</th>\n",
              "      <th>Deaths / 100 Cases</th>\n",
              "      <th>Recovered / 100 Cases</th>\n",
              "      <th>Population</th>\n",
              "    </tr>\n",
              "  </thead>\n",
              "  <tbody>\n",
              "    <tr>\n",
              "      <th>0</th>\n",
              "      <td>0</td>\n",
              "      <td>0</td>\n",
              "      <td>0</td>\n",
              "      <td>0</td>\n",
              "      <td>2</td>\n",
              "      <td>1.0</td>\n",
              "      <td>0.0</td>\n",
              "      <td>38928341</td>\n",
              "    </tr>\n",
              "    <tr>\n",
              "      <th>1</th>\n",
              "      <td>0</td>\n",
              "      <td>0</td>\n",
              "      <td>0</td>\n",
              "      <td>0</td>\n",
              "      <td>0</td>\n",
              "      <td>1.0</td>\n",
              "      <td>3.0</td>\n",
              "      <td>2877800</td>\n",
              "    </tr>\n",
              "    <tr>\n",
              "      <th>2</th>\n",
              "      <td>0</td>\n",
              "      <td>0</td>\n",
              "      <td>0</td>\n",
              "      <td>0</td>\n",
              "      <td>1</td>\n",
              "      <td>3.0</td>\n",
              "      <td>2.0</td>\n",
              "      <td>43851043</td>\n",
              "    </tr>\n",
              "    <tr>\n",
              "      <th>3</th>\n",
              "      <td>0</td>\n",
              "      <td>0</td>\n",
              "      <td>0</td>\n",
              "      <td>0</td>\n",
              "      <td>0</td>\n",
              "      <td>2.0</td>\n",
              "      <td>3.0</td>\n",
              "      <td>77265</td>\n",
              "    </tr>\n",
              "    <tr>\n",
              "      <th>4</th>\n",
              "      <td>0</td>\n",
              "      <td>0</td>\n",
              "      <td>0</td>\n",
              "      <td>0</td>\n",
              "      <td>0</td>\n",
              "      <td>1.0</td>\n",
              "      <td>1.0</td>\n",
              "      <td>32866268</td>\n",
              "    </tr>\n",
              "  </tbody>\n",
              "</table>\n",
              "</div>"
            ],
            "text/plain": [
              "   Country  Confirmed  ...  Recovered / 100 Cases  Population\n",
              "0        0          0  ...                    0.0    38928341\n",
              "1        0          0  ...                    3.0     2877800\n",
              "2        0          0  ...                    2.0    43851043\n",
              "3        0          0  ...                    3.0       77265\n",
              "4        0          0  ...                    1.0    32866268\n",
              "\n",
              "[5 rows x 8 columns]"
            ]
          },
          "metadata": {
            "tags": []
          },
          "execution_count": 28
        }
      ]
    },
    {
      "cell_type": "code",
      "metadata": {
        "colab": {
          "base_uri": "https://localhost:8080/",
          "height": 450
        },
        "id": "nj66Zqpt9Plv",
        "outputId": "27355135-52d9-4009-feee-f845a44a5574"
      },
      "source": [
        "bar_chart('Recovered / 100 Cases')"
      ],
      "execution_count": null,
      "outputs": [
        {
          "output_type": "display_data",
          "data": {
            "image/png": "[encoded data removed]",
            "text/plain": [
              "<Figure size 720x360 with 1 Axes>"
            ]
          },
          "metadata": {
            "tags": []
          }
        }
      ]
    },
    {
      "cell_type": "markdown",
      "metadata": {
        "id": "xPtowBDdqJHz"
      },
      "source": [
        "#**Categorizing (Population) in different range**"
      ]
    },
    {
      "cell_type": "code",
      "metadata": {
        "id": "YyYmM3_M9jT8"
      },
      "source": [
        "for dataset in train_test_data:\n",
        "  dataset.loc[ dataset['Population'] <= 50000000, 'Population'] = 0\n",
        "  dataset.loc[(dataset['Population'] > 50000000) & (dataset['Population'] <= 200000000), 'Population'] = 1\n",
        "  dataset.loc[(dataset['Population'] > 200000000) & (dataset['Population'] <= 400000000), 'Population'] = 2\n",
        "  dataset.loc[ dataset['Population'] > 400000000, 'Population'] = 3"
      ],
      "execution_count": null,
      "outputs": []
    },
    {
      "cell_type": "code",
      "metadata": {
        "colab": {
          "base_uri": "https://localhost:8080/",
          "height": 204
        },
        "id": "TqwNvlZy-R2v",
        "outputId": "c546a961-767d-42c7-e5a4-487e04d7cdb2"
      },
      "source": [
        "train.head()"
      ],
      "execution_count": null,
      "outputs": [
        {
          "output_type": "execute_result",
          "data": {
            "text/html": [
              "<div>\n",
              "<style scoped>\n",
              "    .dataframe tbody tr th:only-of-type {\n",
              "        vertical-align: middle;\n",
              "    }\n",
              "\n",
              "    .dataframe tbody tr th {\n",
              "        vertical-align: top;\n",
              "    }\n",
              "\n",
              "    .dataframe thead th {\n",
              "        text-align: right;\n",
              "    }\n",
              "</style>\n",
              "<table border=\"1\" class=\"dataframe\">\n",
              "  <thead>\n",
              "    <tr style=\"text-align: right;\">\n",
              "      <th></th>\n",
              "      <th>Country</th>\n",
              "      <th>Confirmed</th>\n",
              "      <th>Deaths</th>\n",
              "      <th>Recovered</th>\n",
              "      <th>New Cases</th>\n",
              "      <th>Deaths / 100 Cases</th>\n",
              "      <th>Recovered / 100 Cases</th>\n",
              "      <th>Population</th>\n",
              "    </tr>\n",
              "  </thead>\n",
              "  <tbody>\n",
              "    <tr>\n",
              "      <th>0</th>\n",
              "      <td>0</td>\n",
              "      <td>0</td>\n",
              "      <td>0</td>\n",
              "      <td>0</td>\n",
              "      <td>2</td>\n",
              "      <td>1.0</td>\n",
              "      <td>0.0</td>\n",
              "      <td>0</td>\n",
              "    </tr>\n",
              "    <tr>\n",
              "      <th>1</th>\n",
              "      <td>0</td>\n",
              "      <td>0</td>\n",
              "      <td>0</td>\n",
              "      <td>0</td>\n",
              "      <td>0</td>\n",
              "      <td>1.0</td>\n",
              "      <td>3.0</td>\n",
              "      <td>0</td>\n",
              "    </tr>\n",
              "    <tr>\n",
              "      <th>2</th>\n",
              "      <td>0</td>\n",
              "      <td>0</td>\n",
              "      <td>0</td>\n",
              "      <td>0</td>\n",
              "      <td>1</td>\n",
              "      <td>3.0</td>\n",
              "      <td>2.0</td>\n",
              "      <td>0</td>\n",
              "    </tr>\n",
              "    <tr>\n",
              "      <th>3</th>\n",
              "      <td>0</td>\n",
              "      <td>0</td>\n",
              "      <td>0</td>\n",
              "      <td>0</td>\n",
              "      <td>0</td>\n",
              "      <td>2.0</td>\n",
              "      <td>3.0</td>\n",
              "      <td>0</td>\n",
              "    </tr>\n",
              "    <tr>\n",
              "      <th>4</th>\n",
              "      <td>0</td>\n",
              "      <td>0</td>\n",
              "      <td>0</td>\n",
              "      <td>0</td>\n",
              "      <td>0</td>\n",
              "      <td>1.0</td>\n",
              "      <td>1.0</td>\n",
              "      <td>0</td>\n",
              "    </tr>\n",
              "  </tbody>\n",
              "</table>\n",
              "</div>"
            ],
            "text/plain": [
              "   Country  Confirmed  ...  Recovered / 100 Cases  Population\n",
              "0        0          0  ...                    0.0           0\n",
              "1        0          0  ...                    3.0           0\n",
              "2        0          0  ...                    2.0           0\n",
              "3        0          0  ...                    3.0           0\n",
              "4        0          0  ...                    1.0           0\n",
              "\n",
              "[5 rows x 8 columns]"
            ]
          },
          "metadata": {
            "tags": []
          },
          "execution_count": 31
        }
      ]
    },
    {
      "cell_type": "code",
      "metadata": {
        "colab": {
          "base_uri": "https://localhost:8080/",
          "height": 450
        },
        "id": "RbGhtHnS-UIJ",
        "outputId": "944217eb-847f-4d58-af4b-0d7aabe05f3a"
      },
      "source": [
        "bar_chart('Population')"
      ],
      "execution_count": null,
      "outputs": [
        {
          "output_type": "display_data",
          "data": {
            "image/png": "[encoded data removed]",
            "text/plain": [
              "<Figure size 720x360 with 1 Axes>"
            ]
          },
          "metadata": {
            "tags": []
          }
        }
      ]
    },
    {
      "cell_type": "markdown",
      "metadata": {
        "id": "bf06E5UL0k5T"
      },
      "source": [
        "#**Dividing the dataset**"
      ]
    },
    {
      "cell_type": "code",
      "metadata": {
        "colab": {
          "base_uri": "https://localhost:8080/"
        },
        "id": "EtVfd3pf0pJ9",
        "outputId": "d37a98ae-d299-4adb-b3e3-6677ce3725c8"
      },
      "source": [
        "# (X_TRAIN->train_data, Y_TRAIN->target), X_TEST, Y_TEST\n",
        "train_data = train.drop('New Cases', axis=1)\n",
        "target = train['New Cases']\n",
        "train_data.shape, target.shape"
      ],
      "execution_count": null,
      "outputs": [
        {
          "output_type": "execute_result",
          "data": {
            "text/plain": [
              "((188, 7), (188,))"
            ]
          },
          "metadata": {
            "tags": []
          },
          "execution_count": 33
        }
      ]
    },
    {
      "cell_type": "markdown",
      "metadata": {
        "id": "48dLNF7J043_"
      },
      "source": [
        "#**Splitting the dataset into train and test data**"
      ]
    },
    {
      "cell_type": "code",
      "metadata": {
        "colab": {
          "base_uri": "https://localhost:8080/"
        },
        "id": "cp5ANsIV08Tn",
        "outputId": "5832c9ed-f74d-46ac-ff37-7a45e0fe2586"
      },
      "source": [
        "from sklearn.model_selection import train_test_split\n",
        "X_train, X_test, y_train, y_test = train_test_split(train_data, target, test_size=.30, random_state=42)\n",
        "print(\"X_train: \", X_train.shape)\n",
        "print(\"X_test: \", X_test.shape)\n",
        "print(\"y_train: \", y_train.shape)\n",
        "print(\"y_test: \", y_test.shape)\n",
        "#print(y_test)\n",
        "y_test.value_counts()"
      ],
      "execution_count": null,
      "outputs": [
        {
          "output_type": "stream",
          "text": [
            "X_train:  (131, 7)\n",
            "X_test:  (57, 7)\n",
            "y_train:  (131,)\n",
            "y_test:  (57,)\n"
          ],
          "name": "stdout"
        },
        {
          "output_type": "execute_result",
          "data": {
            "text/plain": [
              "0    37\n",
              "3     9\n",
              "1     6\n",
              "2     5\n",
              "Name: New Cases, dtype: int64"
            ]
          },
          "metadata": {
            "tags": []
          },
          "execution_count": 45
        }
      ]
    },
    {
      "cell_type": "markdown",
      "metadata": {
        "id": "lPKVR5jb1Toh"
      },
      "source": [
        "#**Decision Tree Algorithm 1**"
      ]
    },
    {
      "cell_type": "code",
      "metadata": {
        "id": "HFRnu09i1Wfc"
      },
      "source": [
        "# Importing Classifier Modules\n",
        "from sklearn.tree import DecisionTreeClassifier\n",
        "\n",
        "dt = DecisionTreeClassifier()\n",
        "dt.fit(X_train, y_train)\n",
        "y_pred = dt.predict(X_test)"
      ],
      "execution_count": null,
      "outputs": []
    },
    {
      "cell_type": "markdown",
      "metadata": {
        "id": "qdKGUfo0mIeg"
      },
      "source": [
        "#**Performance evaluation**"
      ]
    },
    {
      "cell_type": "code",
      "metadata": {
        "colab": {
          "base_uri": "https://localhost:8080/"
        },
        "id": "BlecT4EjmLvp",
        "outputId": "8b241aa2-d205-48c8-b340-41142cb7e5ff"
      },
      "source": [
        "from sklearn.metrics import confusion_matrix,classification_report\n",
        "print(confusion_matrix(y_test, y_pred))\n",
        "print(classification_report(y_test,y_pred))"
      ],
      "execution_count": null,
      "outputs": [
        {
          "output_type": "stream",
          "text": [
            "[[33  4  0  0]\n",
            " [ 3  3  0  0]\n",
            " [ 2  2  0  1]\n",
            " [ 2  0  1  6]]\n",
            "              precision    recall  f1-score   support\n",
            "\n",
            "           0       0.82      0.89      0.86        37\n",
            "           1       0.33      0.50      0.40         6\n",
            "           2       0.00      0.00      0.00         5\n",
            "           3       0.86      0.67      0.75         9\n",
            "\n",
            "    accuracy                           0.74        57\n",
            "   macro avg       0.50      0.51      0.50        57\n",
            "weighted avg       0.71      0.74      0.72        57\n",
            "\n"
          ],
          "name": "stdout"
        }
      ]
    },
    {
      "cell_type": "markdown",
      "metadata": {
        "id": "NVNxrvV1mXlW"
      },
      "source": [
        "#**Calculating accuracy**"
      ]
    },
    {
      "cell_type": "code",
      "metadata": {
        "colab": {
          "base_uri": "https://localhost:8080/"
        },
        "id": "ipYo_5uKmZbR",
        "outputId": "a091e9fe-ba20-4c5f-af5d-f842f751955e"
      },
      "source": [
        "# Decision Tree 1 Score\n",
        "from sklearn.metrics import accuracy_score\n",
        "print(accuracy_score(y_test, y_pred))"
      ],
      "execution_count": null,
      "outputs": [
        {
          "output_type": "stream",
          "text": [
            "0.7368421052631579\n"
          ],
          "name": "stdout"
        }
      ]
    },
    {
      "cell_type": "markdown",
      "metadata": {
        "id": "8FPkfBpC0Tiq"
      },
      "source": [
        "#**Decision Tree Algorithm 2**"
      ]
    },
    {
      "cell_type": "code",
      "metadata": {
        "id": "bJMhL7Fh0wG3"
      },
      "source": [
        "import numpy as np\n",
        "from sklearn.model_selection import KFold\n",
        "from sklearn.model_selection import cross_val_score\n",
        "k_fold = KFold(n_splits=10, shuffle=True, random_state=0)"
      ],
      "execution_count": null,
      "outputs": []
    },
    {
      "cell_type": "code",
      "metadata": {
        "colab": {
          "base_uri": "https://localhost:8080/"
        },
        "id": "k5Z0FPb61ChQ",
        "outputId": "79253f9c-ca6b-4add-cfee-73036057579e"
      },
      "source": [
        "dt2 = DecisionTreeClassifier()\n",
        "scoring = 'accuracy'\n",
        "score = cross_val_score(dt2, train_data, target, cv=k_fold, n_jobs=1, scoring=scoring)\n",
        "print(score)"
      ],
      "execution_count": null,
      "outputs": [
        {
          "output_type": "stream",
          "text": [
            "[0.57894737 0.68421053 0.78947368 0.84210526 0.73684211 0.68421053\n",
            " 0.42105263 0.63157895 0.77777778 0.61111111]\n"
          ],
          "name": "stdout"
        }
      ]
    },
    {
      "cell_type": "code",
      "metadata": {
        "colab": {
          "base_uri": "https://localhost:8080/"
        },
        "id": "K7KnTI_q1Rbd",
        "outputId": "baca07c2-986c-4dae-ccec-870a7c6fdb58"
      },
      "source": [
        "# Decision Tree 2 Score\n",
        "round(np.mean(score)*100, 2)"
      ],
      "execution_count": null,
      "outputs": [
        {
          "output_type": "execute_result",
          "data": {
            "text/plain": [
              "67.57"
            ]
          },
          "metadata": {
            "tags": []
          },
          "execution_count": 40
        }
      ]
    },
    {
      "cell_type": "markdown",
      "metadata": {
        "id": "QISoQO3T1loJ"
      },
      "source": [
        "#**Random Forest Algorithm**"
      ]
    },
    {
      "cell_type": "code",
      "metadata": {
        "id": "_ZRa1IKB0ZHi"
      },
      "source": [
        "# Importing Classifier Modules\n",
        "from sklearn.ensemble import RandomForestClassifier"
      ],
      "execution_count": null,
      "outputs": []
    },
    {
      "cell_type": "code",
      "metadata": {
        "id": "LVAmTt9pvobP",
        "colab": {
          "base_uri": "https://localhost:8080/"
        },
        "outputId": "d2a0b866-6ea3-43ba-82b4-febd855b5199"
      },
      "source": [
        "clf = RandomForestClassifier()\n",
        "scoring = 'accuracy'\n",
        "score = cross_val_score(clf, train_data, target, cv=k_fold, n_jobs=1, scoring=scoring)\n",
        "print(score)"
      ],
      "execution_count": null,
      "outputs": [
        {
          "output_type": "stream",
          "text": [
            "[0.63157895 0.63157895 0.89473684 0.78947368 0.73684211 0.73684211\n",
            " 0.57894737 0.63157895 0.77777778 0.61111111]\n"
          ],
          "name": "stdout"
        }
      ]
    },
    {
      "cell_type": "code",
      "metadata": {
        "id": "wpFaa2BnwnWK",
        "colab": {
          "base_uri": "https://localhost:8080/"
        },
        "outputId": "120a099e-15ee-4f9f-8e39-aee91a23f04b"
      },
      "source": [
        "# Random Forest Score\n",
        "round(np.mean(score)*100, 2)"
      ],
      "execution_count": null,
      "outputs": [
        {
          "output_type": "execute_result",
          "data": {
            "text/plain": [
              "70.2"
            ]
          },
          "metadata": {
            "tags": []
          },
          "execution_count": 43
        }
      ]
    }
  ]
}